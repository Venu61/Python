{
 "cells": [
  {
   "cell_type": "code",
   "execution_count": null,
   "id": "b6ac58f3",
   "metadata": {},
   "outputs": [],
   "source": [
    "###Write a Python program to print numbers from 1 to 10 using a for loop.\n",
    "\n",
    "\n",
    "\n",
    "for i in range(1, 11):\n",
    "    print(i)\n"
   ]
  },
  {
   "cell_type": "code",
   "execution_count": null,
   "id": "f3bd6bbc",
   "metadata": {},
   "outputs": [],
   "source": [
    "###Write a Python program to find the sum of all numbers from 1 to 100 using a while loop.\n",
    "\n",
    "\n",
    "sum = 0\n",
    "i = 1\n",
    "while i <= 100:\n",
    "    sum += i\n",
    "    i += 1\n",
    "print(\"Sum:\", sum)\n"
   ]
  },
  {
   "cell_type": "code",
   "execution_count": 1,
   "id": "21bace00",
   "metadata": {},
   "outputs": [
    {
     "name": "stdout",
     "output_type": "stream",
     "text": [
      "Enter a number: 120\n",
      "Factorial: 120\n"
     ]
    }
   ],
   "source": [
    "###Write a Python program to calculate the factorial of a number using a for loop.\n",
    "\n",
    "\n",
    "a = int(input(\"Enter a number: \"))\n",
    "factorial = 1\n",
    "for i in range(1, a + 1):\n",
    "    factorial = i\n",
    "print(\"Factorial:\", factorial)\n"
   ]
  },
  {
   "cell_type": "code",
   "execution_count": 9,
   "id": "2bd5e10c",
   "metadata": {},
   "outputs": [
    {
     "name": "stdout",
     "output_type": "stream",
     "text": [
      "Enter a number: 25\n",
      "25 x 1 = 25\n",
      "25 x 2 = 50\n",
      "25 x 3 = 75\n",
      "25 x 4 = 100\n",
      "25 x 5 = 125\n",
      "25 x 6 = 150\n",
      "25 x 7 = 175\n",
      "25 x 8 = 200\n",
      "25 x 9 = 225\n",
      "25 x 10 = 250\n"
     ]
    }
   ],
   "source": [
    "###Write a Python program to print the multiplication table of a given number using a while loop.\n",
    "\n",
    "\n",
    "b = int(input(\"Enter a number: \"))\n",
    "i = 1\n",
    "while i <= 10:\n",
    "    print(b, \"x\", i, \"=\", b * i)\n",
    "    i += 1\n"
   ]
  },
  {
   "cell_type": "code",
   "execution_count": null,
   "id": "5c609653",
   "metadata": {},
   "outputs": [],
   "source": [
    "###Write a Python program to check if a number is prime or not using a for loop.\n",
    "\n",
    "c= int(input(\"Enter a number: \"))\n",
    "is_prime = True\n",
    "for i in range(2, c):\n",
    "    if c % i == 0:\n",
    "        is_prime = False\n",
    "        break\n",
    "if is_prime:\n",
    "    print(c, \"is prime.\")\n",
    "else:\n",
    "    print(c, \"is not prime.\")\n"
   ]
  },
  {
   "cell_type": "code",
   "execution_count": null,
   "id": "79692d66",
   "metadata": {},
   "outputs": [],
   "source": [
    "###Write a Python program to find the sum of all even numbers from 1 to 50 using a for loop.\n",
    "\n",
    "d = 0\n",
    "for i in range(2, 51, 2):\n",
    "    d += i\n",
    "print(\"Sum of even numbers:\", d)\n"
   ]
  },
  {
   "cell_type": "code",
   "execution_count": null,
   "id": "151a1882",
   "metadata": {},
   "outputs": [],
   "source": [
    "###Write a Python program to print the Fibonacci sequence up to n terms using a while loop.\n",
    "\n",
    "n = int(input(\"Enter the number \"))\n",
    "a, b = 0, 1\n",
    "count = 0\n",
    "while count < n:\n",
    "    print(a, end=\" \")\n",
    "    count += 1\n"
   ]
  },
  {
   "cell_type": "code",
   "execution_count": null,
   "id": "9c3b7a6c",
   "metadata": {},
   "outputs": [],
   "source": [
    "###Write a Python program to print the ASCII value of all lowercase alphabets using a for loop\n",
    "\n",
    "for char in range(ord('d'), ord('e')+1):\n",
    "    print(chr(char), \"=\", char)\n"
   ]
  },
  {
   "cell_type": "code",
   "execution_count": null,
   "id": "0eebc9d9",
   "metadata": {},
   "outputs": [],
   "source": [
    "###Write a Python program to reverse a given list using a while loop.\n",
    "\n",
    "c = [7,0,7,5,0]\n",
    "d= []\n",
    "i = len(c) - 1\n",
    "while i >= 0:\n",
    "    d.append(c[i])\n",
    "    i -= 1\n",
    "print(\"Reversed list:\", d)\n"
   ]
  },
  {
   "cell_type": "code",
   "execution_count": null,
   "id": "e0cbf37a",
   "metadata": {},
   "outputs": [],
   "source": [
    "###Write a Python program to find the largest element in a list using a for loop.\n",
    "\n",
    "s = [10, 20, 5, 30, 15]\n",
    "largest =s[0]\n",
    "for num in s:\n",
    "    if num > largest:\n",
    "        largest = num\n",
    "print(\"Largest element:\", largest)\n",
    "\n",
    "\n"
   ]
  },
  {
   "cell_type": "code",
   "execution_count": null,
   "id": "647c67e4",
   "metadata": {},
   "outputs": [],
   "source": [
    "###Write a Python program to check if a given string is a palindrome using a while loop.\n",
    "\n",
    "e= input(\"Enter a string: \")\n",
    "is_palindrome = True\n",
    "if is_palindrome:\n",
    "    print(\"The string is a palindrome.\")\n",
    "else:\n",
    "    print(\"The string is not a palindrome.\")\n"
   ]
  },
  {
   "cell_type": "code",
   "execution_count": null,
   "id": "b58ef25c",
   "metadata": {},
   "outputs": [],
   "source": [
    "###Write a Python program to count the number of vowels in a given string using a for loop.\n",
    "\n",
    "t = input(\"Enter a string: \")\n",
    "vowels = \"aeiou\"\n",
    "count = 0\n",
    "for char in t:\n",
    "    if char.lower() in vowels:\n",
    "        count += 1\n",
    "print(\"Number of vowels:\", count)\n"
   ]
  },
  {
   "cell_type": "code",
   "execution_count": null,
   "id": "0f5190dc",
   "metadata": {},
   "outputs": [],
   "source": [
    "###Write a Python program to find the factorial of each number in a given list using a for loop.\n",
    "\n",
    "\n",
    "w = [8,7,9,4,5]\n",
    "for e in w:\n",
    "    factorial = 1\n",
    "    for i in range(1, e + 1):\n",
    "        factorial *= i\n",
    "    print(\"Factorial of\", e, \":\", factorial)\n"
   ]
  },
  {
   "cell_type": "code",
   "execution_count": null,
   "id": "d9a113e6",
   "metadata": {},
   "outputs": [],
   "source": [
    "###Write a Python program to find the sum of all elements in a list using a while loop.\n",
    "\n",
    "numbers = [7,0,7,0,5]\n",
    "total = 0\n",
    "i = 0\n",
    "while i < len(numbers):\n",
    "    total += numbers[i]\n",
    "    i += 1\n",
    "print(\"Sum of all elements:\", total)\n"
   ]
  },
  {
   "cell_type": "code",
   "execution_count": null,
   "id": "832e536b",
   "metadata": {},
   "outputs": [],
   "source": [
    "###Write a Python program to find the average of all elements in a list using a for loop.\n",
    "\n",
    "\n",
    "a = [15,20,30,50,60]\n",
    "for num in a:\n",
    "    total += num\n",
    "average = total / len(a)\n",
    "print(\"Average of all elements:\", average)\n"
   ]
  },
  {
   "cell_type": "code",
   "execution_count": null,
   "id": "aa274ba5",
   "metadata": {},
   "outputs": [],
   "source": [
    "###Write a Python program to find the GCD (Greatest Common Divisor) of two numbers using a while loop.\n",
    "\n",
    "a = int(input(\"Enter first number: \"))\n",
    "b= int(input(\"Enter second number: \"))\n",
    "\n",
    "print(\"GCD of\", a, \"and\", b, \"is:\", gcd(a, b))\n"
   ]
  },
  {
   "cell_type": "code",
   "execution_count": null,
   "id": "62913265",
   "metadata": {},
   "outputs": [],
   "source": [
    "###Write a Python program to print all prime numbers within a given range using a for loop.\n",
    "\n",
    "a = int(input(\"Enter starting number: \"))\n",
    "c = int(input(\"Enter ending number: \"))\n",
    "\n",
    "print(\"Prime numbers between\", a, \"and\", c, \"are:\")\n",
    "for num in range(a, c+1):\n",
    "    if num > 1:\n",
    "        for i in range(2, int(num ** 0.5) + 1):\n",
    "            if num % i == 0:\n",
    "                break\n",
    "        else:\n",
    "            print(num)\n"
   ]
  },
  {
   "cell_type": "code",
   "execution_count": null,
   "id": "7168f7be",
   "metadata": {},
   "outputs": [],
   "source": [
    "###Write a Python program to find the second largest element in a list using a while loop.\n",
    "\n",
    "d = [1,2,3,4,5]\n",
    "largest = e = float('-inf')\n",
    "i = 0\n",
    "while i < len(d):\n",
    "    if numbers[i] > largest:\n",
    "        et= largest\n",
    "        largest = numbers[i]\n",
    "    elif numbers[i] >e and numbers[i] != largest:\n",
    "        e = numbers[i]\n",
    "    i += 1\n",
    "print(\"Second largest element:\", e)\n"
   ]
  },
  {
   "cell_type": "code",
   "execution_count": null,
   "id": "94c3d6f4",
   "metadata": {},
   "outputs": [],
   "source": [
    "###Write a Python program to generate the Armstrong numbers within a given range using a for loop.\n",
    "\n",
    "\n",
    "d = int(input(\"Enter starting number: \"))\n",
    "e= int(input(\"Enter ending number: \"))\n",
    "\n",
    "print(\"Armstrong numbers between\", d, \"and\",e, \"are:\")\n",
    "for num in range(d, e+1):\n",
    "    order = len(str(num))\n",
    "    sum = 0\n",
    "    temp = num\n",
    "    while temp > 0:\n",
    "        digit = temp % 10\n",
    "        sum += digit ** order\n",
    "        temp //= 10\n",
    "    if num == sum:\n",
    "        print(num)\n",
    "\n"
   ]
  },
  {
   "cell_type": "code",
   "execution_count": null,
   "id": "5122405b",
   "metadata": {},
   "outputs": [],
   "source": [
    "###Write a Python program to find the sum of digits of a number using a while loop.\n",
    "\n",
    "d = int(input(\"Enter a number: \"))\n",
    "sum = 0\n",
    "while d > 0:\n",
    "    digit = d % 10\n",
    "    sum += digit\n",
    "    d //= 10\n",
    "print(\"Sum of digits:\", sum)\n"
   ]
  },
  {
   "cell_type": "code",
   "execution_count": 5,
   "id": "59e2cd54",
   "metadata": {},
   "outputs": [
    {
     "name": "stdout",
     "output_type": "stream",
     "text": [
      "\n",
      "1\n",
      "22\n",
      "333\n",
      "4444\n"
     ]
    }
   ],
   "source": [
    "###Write a Python program to print the pattern:\n",
    "row=5\n",
    "for i in range(row):\n",
    "    for j in range(i):\n",
    "        print(i,end='')\n",
    "    print('')\n"
   ]
  },
  {
   "cell_type": "code",
   "execution_count": 3,
   "id": "b9874a42",
   "metadata": {},
   "outputs": [
    {
     "name": "stdout",
     "output_type": "stream",
     "text": [
      "enter a number of rows : 5\n",
      "1\n",
      "12\n",
      "123\n",
      "1234\n",
      "12345\n"
     ]
    }
   ],
   "source": [
    "###Write a Python program to print the pattern:\n",
    "1\n",
    "12\n",
    "123\n",
    "1234\n",
    "12345\n",
    "\n",
    "\n",
    "n=int(input(\"enter a number of rows : \"))\n",
    "for i in range(1,n+1):\n",
    "    for j in range(1,i+1):\n",
    "        print(j,end='')\n",
    "    print(\"\")\n",
    "\n"
   ]
  },
  {
   "cell_type": "code",
   "execution_count": 2,
   "id": "b775c0d4",
   "metadata": {},
   "outputs": [
    {
     "name": "stdout",
     "output_type": "stream",
     "text": [
      "1\n",
      "22\n",
      "333\n",
      "4444\n",
      "55555\n"
     ]
    }
   ],
   "source": [
    "###using nested while loops. 23. Write a Python program to print the pattern:\n",
    "1\n",
    "22\n",
    "333\n",
    "4444\n",
    "55555\n",
    "##using nested for loops.\n",
    "\n",
    "\n",
    "for row in range(1, 6):\n",
    "    for col in range(1, row + 1):\n",
    "        print(row, end=\"\")\n",
    "    print()\n",
    "\n"
   ]
  },
  {
   "cell_type": "code",
   "execution_count": 4,
   "id": "21b3b93f",
   "metadata": {},
   "outputs": [
    {
     "name": "stdout",
     "output_type": "stream",
     "text": [
      "1 \n",
      "2 3 \n",
      "4 5 6 \n",
      "7 8 9 10 \n"
     ]
    }
   ],
   "source": [
    "###Write a Python program to print the pattern:\n",
    "1\n",
    "23\n",
    "456\n",
    "78910\n",
    "##using nested while loops.\n",
    "\n",
    "\n",
    "a = 1\n",
    "b = 1\n",
    "\n",
    "while b<= 4:\n",
    "    c= 1\n",
    "    while c<= b:\n",
    "        print(a,end=\" \")\n",
    "        a+= 1\n",
    "        c+= 1\n",
    "    print()\n",
    "    b+=1\n",
    "\n"
   ]
  },
  {
   "cell_type": "code",
   "execution_count": 6,
   "id": "ccba4880",
   "metadata": {},
   "outputs": [
    {
     "name": "stdout",
     "output_type": "stream",
     "text": [
      "* * * * *  \n",
      "* * * *  \n",
      "* * *  \n",
      "* *  \n",
      "*  \n",
      " \n"
     ]
    }
   ],
   "source": [
    "\n",
    "##Write a Python program to print the pattern:\n",
    "##*****\n",
    "#****\n",
    "#***\n",
    "#**\n",
    "#*\n",
    "## using a for loop. \n",
    "\n",
    "rows = 5\n",
    "for i in range(rows + 1, 0, -1):\n",
    "    for j in range(0, i - 1):\n",
    "        print(\"*\", end=' ')\n",
    "    print(\" \")\n",
    "\n",
    "\n"
   ]
  },
  {
   "cell_type": "code",
   "execution_count": 13,
   "id": "09115c8e",
   "metadata": {},
   "outputs": [
    {
     "name": "stdout",
     "output_type": "stream",
     "text": [
      "55555\n",
      "4444\n",
      "333\n",
      "22\n",
      "1\n"
     ]
    }
   ],
   "source": [
    "####Write a Python program to print the pattern:\n",
    "55555\n",
    "4444\n",
    "333\n",
    "22\n",
    "1\n",
    "##using a while loop.\n",
    "\n",
    "\n",
    "\n",
    "num = 5\n",
    "\n",
    "while num >= 1:\n",
    "    print(str(num) * num)\n",
    "    num -= 1\n"
   ]
  },
  {
   "cell_type": "code",
   "execution_count": 23,
   "id": "1cfb2aa7",
   "metadata": {},
   "outputs": [
    {
     "name": "stdout",
     "output_type": "stream",
     "text": [
      "A\n",
      "BB\n",
      "CCC\n",
      "DDDD\n",
      "EEEEE\n"
     ]
    }
   ],
   "source": [
    "###Write a Python program to print the pattern:\n",
    "#BB\n",
    "#CCC\n",
    "#DDDD\n",
    "#EEEEE\n",
    "###using nested for loops.\n",
    "\n",
    "\n",
    "\n",
    "a= ord('A')\n",
    "\n",
    "for i in range(1, 6):\n",
    "    for j in range(i):\n",
    "        print(chr(a+ i - 1), end=\"\")\n",
    "    print()\n"
   ]
  },
  {
   "cell_type": "code",
   "execution_count": 23,
   "id": "d8f4e325",
   "metadata": {},
   "outputs": [
    {
     "name": "stdout",
     "output_type": "stream",
     "text": [
      "A  \n",
      "B C  \n",
      "D E F  \n",
      "G H I J  \n",
      "K L M N O  \n"
     ]
    }
   ],
   "source": [
    "### Write a Python program to print the pattern:\n",
    "##A\n",
    "##BC\n",
    "##DEF\n",
    "##GHIJ\n",
    "##KLMNO\n",
    "##using nested while loops. \n",
    "\n",
    "# ASCII number of 'A'\n",
    "ascii_number = 65\n",
    "rows = 5\n",
    "for i in range(0, rows):\n",
    "    for j in range(0, i + 1):\n",
    "        character = chr(ascii_number)\n",
    "        print(character, end=' ')\n",
    "        ascii_number += 1\n",
    "    print(\" \")\n",
    "\n"
   ]
  },
  {
   "cell_type": "code",
   "execution_count": 26,
   "id": "c9bb11f2",
   "metadata": {},
   "outputs": [
    {
     "name": "stdout",
     "output_type": "stream",
     "text": [
      "* * * * * \n",
      "* * * * \n",
      "* * * \n",
      "* * \n",
      "* \n",
      "* * \n",
      "* * * \n",
      "* * * * \n",
      "* * * * * \n"
     ]
    }
   ],
   "source": [
    "###Write a Python program to print the pattern:\n",
    "#*****\n",
    "#****\n",
    "#***\n",
    "#**\n",
    "#*\n",
    "#**\n",
    "#***\n",
    "#****\n",
    "#*****  \n",
    "#using nested while loops.\n",
    "\n",
    "\n",
    "def venu():\n",
    "    i = rows\n",
    "    while i >= 1:\n",
    "        j = 1\n",
    "        while j <= i:\n",
    "            print(\"*\", end=\" \")\n",
    "            j += 1\n",
    "        print()\n",
    "        i -= 1\n",
    "\n",
    "    i = 2\n",
    "    while i <= rows:\n",
    "        j = 1\n",
    "        while j <= i:\n",
    "            print(\"*\", end=\" \")\n",
    "            j += 1\n",
    "        print()\n",
    "        i += 1\n",
    "\n",
    "rows =5\n",
    "venu()\n"
   ]
  },
  {
   "cell_type": "code",
   "execution_count": null,
   "id": "d9ca218e",
   "metadata": {},
   "outputs": [],
   "source": []
  }
 ],
 "metadata": {
  "kernelspec": {
   "display_name": "Python 3 (ipykernel)",
   "language": "python",
   "name": "python3"
  },
  "language_info": {
   "codemirror_mode": {
    "name": "ipython",
    "version": 3
   },
   "file_extension": ".py",
   "mimetype": "text/x-python",
   "name": "python",
   "nbconvert_exporter": "python",
   "pygments_lexer": "ipython3",
   "version": "3.11.5"
  }
 },
 "nbformat": 4,
 "nbformat_minor": 5
}
