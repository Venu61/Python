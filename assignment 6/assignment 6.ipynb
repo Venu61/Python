{
 "cells": [
  {
   "cell_type": "code",
   "execution_count": 1,
   "id": "2884a5f2",
   "metadata": {},
   "outputs": [
    {
     "name": "stdout",
     "output_type": "stream",
     "text": [
      "Enter an integer  20\n",
      "a is an even number\n"
     ]
    }
   ],
   "source": [
    "#even or odd\n",
    "\n",
    "a=int(input('Enter an integer  '))\n",
    "if a%2== 0:\n",
    "    print('a is an even number')\n",
    "else:\n",
    "    print('a is an odd number')\n"
   ]
  },
  {
   "cell_type": "code",
   "execution_count": 2,
   "id": "ecfb4716",
   "metadata": {},
   "outputs": [
    {
     "name": "stdout",
     "output_type": "stream",
     "text": [
      "enter the score  25\n",
      "f grade\n"
     ]
    }
   ],
   "source": [
    "#grade calculator\n",
    "\n",
    "score=int(input('enter the score  '))\n",
    "if(score>=90):\n",
    "    print('a grade')\n",
    "elif(score>=80 and score<90):\n",
    "    print('b grade')\n",
    "elif(score>=70 and score<80):\n",
    "    print('c grade')\n",
    "elif(score>=60 and score<70):\n",
    "    print('d grade')\n",
    "else:\n",
    "    print('f grade')"
   ]
  },
  {
   "cell_type": "code",
   "execution_count": 3,
   "id": "4255412f",
   "metadata": {},
   "outputs": [
    {
     "name": "stdout",
     "output_type": "stream",
     "text": [
      "Enter a year  2024\n",
      "2024 is a leap year.\n"
     ]
    }
   ],
   "source": [
    "#leap year check\n",
    "\n",
    "year = int(input(\"Enter a year  \"))\n",
    "if year % 4 == 0:\n",
    "    if year % 100 == 0:\n",
    "         if year % 400 == 0:\n",
    "            print(year, \"is a leap year\")\n",
    "         else:\n",
    "            print(year, \"is not a leap year\")\n",
    "    else: \n",
    "        print(year, \"is a leap year.\")\n",
    "else:\n",
    "    print(year, \"is not a leap year\")\n"
   ]
  },
  {
   "cell_type": "code",
   "execution_count": 4,
   "id": "1ddcb30e",
   "metadata": {},
   "outputs": [
    {
     "name": "stdout",
     "output_type": "stream",
     "text": [
      "Enter the income  $4000000\n",
      "Your tax amount based on the given amount is: 1200000.0\n"
     ]
    }
   ],
   "source": [
    "#tax calculator\n",
    "\n",
    "income = float(input(\"Enter the income  $\"))\n",
    "if income <= 10000:\n",
    "    amount = 0\n",
    "elif 10000 < income <= 50000:\n",
    "    amount = 0.10 * income\n",
    "elif 50000 < income <= 100000:\n",
    "    amount = 0.20 * income\n",
    "else:\n",
    "    amount = 0.30 * income\n",
    "print(\"Your tax amount based on the given amount is:\",amount )"
   ]
  },
  {
   "cell_type": "code",
   "execution_count": 5,
   "id": "03dbbe90",
   "metadata": {},
   "outputs": [
    {
     "name": "stdout",
     "output_type": "stream",
     "text": [
      "Enter the first number:  60\n",
      "Enter the second number:  25\n",
      "Enter the third number:  30\n",
      "Maximum of Three numbers is: 60\n"
     ]
    }
   ],
   "source": [
    "#maximum number of three members\n",
    "\n",
    "a=int(input(\"Enter the first number:  \"))\n",
    "b=int(input(\"Enter the second number:  \"))\n",
    "c=int(input(\"Enter the third number:  \"))\n",
    "if a >= b and a >= c:\n",
    "    maximum = a\n",
    "elif b >= c:\n",
    "    maximum = b\n",
    "else:\n",
    "    maximum = c\n",
    "\n",
    "print(\"Maximum of Three numbers is:\", maximum)\n"
   ]
  },
  {
   "cell_type": "code",
   "execution_count": 6,
   "id": "5b48694c",
   "metadata": {},
   "outputs": [
    {
     "name": "stdout",
     "output_type": "stream",
     "text": [
      "Enter a number:  58\n",
      "number is positive\n"
     ]
    }
   ],
   "source": [
    "#positive,negative or zero\n",
    "\n",
    "number=int(input(\"Enter a number:  \"))\n",
    "if number>0:\n",
    "    print(\"number is positive\")\n",
    "elif number==0:\n",
    "    print(\"number is zero/neutral\")\n",
    "else:\n",
    "    print(\"number is negative\")"
   ]
  },
  {
   "cell_type": "code",
   "execution_count": 7,
   "id": "f8eed0f6",
   "metadata": {},
   "outputs": [
    {
     "name": "stdout",
     "output_type": "stream",
     "text": [
      "Enter the length of first side :  12\n",
      "Enter the length of second side :  20\n",
      "Enter the length of third side :  50\n"
     ]
    }
   ],
   "source": [
    "#three triangles\n",
    "\n",
    "first_side = float(input(\"Enter the length of first side :  \"))\n",
    "second_side = float(input(\"Enter the length of second side :  \"))\n",
    "third_side = float(input(\"Enter the length of third side :  \"))\n",
    "if first_side + second_side > third_side and first_side + third_side > second_side and second_side + third_side > first_side: \n",
    " if first_side == second_side == third_side:\n",
    "    print(\"The given sides forms a Equilateral Triangle\")\n",
    " elif first_side == second_side or first_side == third_side or second_side == third_side:\n",
    "          print(\"The given sides forms a Isosceles Triangle\")\n",
    " else:\n",
    "        print(\"The given sides forms a scalen Triangle\")"
   ]
  },
  {
   "cell_type": "code",
   "execution_count": 8,
   "id": "0dfc231a",
   "metadata": {},
   "outputs": [
    {
     "name": "stdout",
     "output_type": "stream",
     "text": [
      "Player 1, Enter your choice (Rock, Paper, Scissors):  rock\n",
      "Player 2, Enter your choice (Rock, Paper, Scissors):  scissors\n",
      "Player 1 wins!\n"
     ]
    }
   ],
   "source": [
    "#rock,paper,scissors game\n",
    "\n",
    "player_1 = input(\"Player 1, Enter your choice (Rock, Paper, Scissors):  \")\n",
    "player_2 = input(\"Player 2, Enter your choice (Rock, Paper, Scissors):  \")\n",
    "if player_1 == player_2:\n",
    "    print(\"It's a draw!\")\n",
    "elif player_1 == \"rock\":\n",
    "    if player_2 == \"scissors\":\n",
    "        print(\"Player 1 wins!\")\n",
    "    else:\n",
    "        print(\"Player 2 wins!\")\n",
    "elif player_1 == \"paper\":\n",
    "    if player_2 == \"rock\":\n",
    "        print(\"Player 1 wins!\")\n",
    "    else:\n",
    "        print(\"Player 2 wins!\")\n",
    "elif player_1 == \"scissors\":\n",
    "    if player_2 == \"paper\":\n",
    "        print(\"Player 1 wins!\")\n",
    "    else:\n",
    "        print(\"Player 2 wins!\")"
   ]
  },
  {
   "cell_type": "code",
   "execution_count": 9,
   "id": "3542a627",
   "metadata": {},
   "outputs": [
    {
     "name": "stdout",
     "output_type": "stream",
     "text": [
      "Enter the Number 1:  25\n",
      "Enter the Number 2:  52\n",
      "25 is not divisible by number_2\n"
     ]
    }
   ],
   "source": [
    "#divisibility check\n",
    "\n",
    "number_1 = int(input(\"Enter the Number 1:  \"))\n",
    "number_2 = int(input(\"Enter the Number 2:  \"))\n",
    "if number_1 % number_2 == 0:\n",
    "    print(number_1,\"is divisible by number_2\")\n",
    "else:\n",
    "    print(number_1, \"is not divisible by number_2\")"
   ]
  },
  {
   "cell_type": "code",
   "execution_count": 10,
   "id": "fab0a2a7",
   "metadata": {},
   "outputs": [
    {
     "name": "stdout",
     "output_type": "stream",
     "text": [
      "Enter a single letter:  i\n",
      "The character i is a vowel\n"
     ]
    }
   ],
   "source": [
    "#vowel or consonant\n",
    "\n",
    "letter = input(\"Enter a single letter:  \")\n",
    "if len(letter) == 1:\n",
    "    if letter in ['a', 'e', 'i', 'o', 'u']:\n",
    "        print(\"The character\", letter, \"is a vowel\")\n",
    "    elif letter >= 'a' and letter <= 'z':\n",
    "        print(\"The character\", letter, \"is a consonant\")\n",
    "    else:\n",
    "        print(\"Please enter a valid single letter.\")"
   ]
  },
  {
   "cell_type": "code",
   "execution_count": null,
   "id": "41d79930",
   "metadata": {},
   "outputs": [],
   "source": []
  }
 ],
 "metadata": {
  "kernelspec": {
   "display_name": "Python 3 (ipykernel)",
   "language": "python",
   "name": "python3"
  },
  "language_info": {
   "codemirror_mode": {
    "name": "ipython",
    "version": 3
   },
   "file_extension": ".py",
   "mimetype": "text/x-python",
   "name": "python",
   "nbconvert_exporter": "python",
   "pygments_lexer": "ipython3",
   "version": "3.11.5"
  }
 },
 "nbformat": 4,
 "nbformat_minor": 5
}
