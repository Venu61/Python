{
 "cells": [
  {
   "cell_type": "code",
   "execution_count": 1,
   "id": "a3e2c97e",
   "metadata": {},
   "outputs": [
    {
     "name": "stdout",
     "output_type": "stream",
     "text": [
      "8\n"
     ]
    }
   ],
   "source": [
    "a=11\n",
    "b=12\n",
    "print(a&b)"
   ]
  },
  {
   "cell_type": "code",
   "execution_count": 2,
   "id": "48b85b24",
   "metadata": {},
   "outputs": [
    {
     "name": "stdout",
     "output_type": "stream",
     "text": [
      "6\n"
     ]
    }
   ],
   "source": [
    "c=15\n",
    "d=22\n",
    "print(c&d)"
   ]
  },
  {
   "cell_type": "code",
   "execution_count": 3,
   "id": "03c123b7",
   "metadata": {},
   "outputs": [
    {
     "name": "stdout",
     "output_type": "stream",
     "text": [
      "44\n"
     ]
    }
   ],
   "source": [
    "e=45\n",
    "f=46\n",
    "print(e&f)"
   ]
  },
  {
   "cell_type": "code",
   "execution_count": 4,
   "id": "6df03a51",
   "metadata": {},
   "outputs": [
    {
     "name": "stdout",
     "output_type": "stream",
     "text": [
      "15\n"
     ]
    }
   ],
   "source": [
    "a=11\n",
    "b=12\n",
    "print(a|b)"
   ]
  },
  {
   "cell_type": "code",
   "execution_count": 5,
   "id": "a37edfcc",
   "metadata": {},
   "outputs": [
    {
     "name": "stdout",
     "output_type": "stream",
     "text": [
      "55\n"
     ]
    }
   ],
   "source": [
    "s=32\n",
    "t=55\n",
    "print(s|t)"
   ]
  },
  {
   "cell_type": "code",
   "execution_count": 6,
   "id": "ea9dd016",
   "metadata": {},
   "outputs": [
    {
     "name": "stdout",
     "output_type": "stream",
     "text": [
      "47\n"
     ]
    }
   ],
   "source": [
    "c=15\n",
    "e=45\n",
    "print(c|e)"
   ]
  },
  {
   "cell_type": "code",
   "execution_count": 7,
   "id": "8e01b643",
   "metadata": {},
   "outputs": [
    {
     "name": "stdout",
     "output_type": "stream",
     "text": [
      "4\n"
     ]
    }
   ],
   "source": [
    "a=11\n",
    "c=15\n",
    "print(a^c)"
   ]
  },
  {
   "cell_type": "code",
   "execution_count": 8,
   "id": "cb1cace4",
   "metadata": {},
   "outputs": [
    {
     "name": "stdout",
     "output_type": "stream",
     "text": [
      "26\n"
     ]
    }
   ],
   "source": [
    "b=12\n",
    "d=22\n",
    "print(b^d)"
   ]
  },
  {
   "cell_type": "code",
   "execution_count": 9,
   "id": "9b6f1d53",
   "metadata": {},
   "outputs": [
    {
     "name": "stdout",
     "output_type": "stream",
     "text": [
      "3\n"
     ]
    }
   ],
   "source": [
    "e=45\n",
    "f=46\n",
    "print(e^f)"
   ]
  },
  {
   "cell_type": "code",
   "execution_count": null,
   "id": "7b834d0d",
   "metadata": {},
   "outputs": [],
   "source": []
  }
 ],
 "metadata": {
  "kernelspec": {
   "display_name": "Python 3 (ipykernel)",
   "language": "python",
   "name": "python3"
  },
  "language_info": {
   "codemirror_mode": {
    "name": "ipython",
    "version": 3
   },
   "file_extension": ".py",
   "mimetype": "text/x-python",
   "name": "python",
   "nbconvert_exporter": "python",
   "pygments_lexer": "ipython3",
   "version": "3.11.5"
  }
 },
 "nbformat": 4,
 "nbformat_minor": 5
}
